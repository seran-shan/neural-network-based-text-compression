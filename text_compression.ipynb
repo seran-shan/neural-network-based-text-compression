{
 "cells": [
  {
   "cell_type": "markdown",
   "metadata": {},
   "source": [
    "# 🚀 Neural Network-Based Text Compression\n",
    "\n",
    "#### 🖋️ Authors\n",
    "- Feidnand Eide\n",
    "- Seran Shanmugathas\n"
   ]
  },
  {
   "cell_type": "markdown",
   "metadata": {},
   "source": [
    "### Install libaries"
   ]
  },
  {
   "cell_type": "code",
   "execution_count": 11,
   "metadata": {},
   "outputs": [
    {
     "name": "stdout",
     "output_type": "stream",
     "text": [
      "Note: you may need to restart the kernel to use updated packages.\n"
     ]
    }
   ],
   "source": [
    "%pip install pytorch-lightning lightning-transformers --quiet"
   ]
  },
  {
   "cell_type": "markdown",
   "metadata": {},
   "source": [
    "### Import Dependencies"
   ]
  },
  {
   "cell_type": "code",
   "execution_count": 17,
   "metadata": {},
   "outputs": [],
   "source": [
    "from enum import Enum\n",
    "import ast\n",
    "\n",
    "import pytorch_lightning as pl\n",
    "from pytorch_lightning.callbacks import ModelCheckpoint\n",
    "from pytorch_lightning.utilities.types import TRAIN_DATALOADERS\n",
    "import torch\n",
    "import torch.nn as nn\n",
    "import torch.nn.functional as F\n",
    "from torch.nn.utils.rnn import pad_sequence\n",
    "from torch.utils.data import DataLoader, Dataset, random_split\n",
    "import transformers\n",
    "from transformers import AutoTokenizer\n",
    "\n",
    "import pandas as pd\n"
   ]
  },
  {
   "cell_type": "markdown",
   "metadata": {},
   "source": [
    "### Config"
   ]
  },
  {
   "cell_type": "code",
   "execution_count": null,
   "metadata": {},
   "outputs": [],
   "source": [
    "config: dict = {\n",
    "    \"data_path\": \"data/uncompressed_and_compressed.csv\",\n",
    "    \"batch_size\": 32,\n",
    "    \"max_length\": 512,\n",
    "    \"vocab_size\": None,\n",
    "    \"embedding_dim\": 128,\n",
    "    \"hidden_dim\": 256,\n",
    "    \"num_layers\": 2,\n",
    "    \"dropout_rate\": 0.5,\n",
    "    \"max_epochs\": 10,\n",
    "    \"gpus\": 1\n",
    "}"
   ]
  },
  {
   "cell_type": "markdown",
   "metadata": {},
   "source": [
    "### Load and Preprocess the Dataset"
   ]
  },
  {
   "cell_type": "code",
   "execution_count": 16,
   "metadata": {},
   "outputs": [],
   "source": [
    "class Columns(Enum):\n",
    "    \"\"\"\n",
    "    Enum containing the columns of the dataset\n",
    "    \"\"\"\n",
    "\n",
    "    UNCOMPRESSED = \"uncompressed\"\n",
    "    COMPRESSED = \"compressed\"\n",
    "\n",
    "\n",
    "def tokenize(text):\n",
    "    return text.split()\n",
    "\n",
    "# Convert the compressed data from hex to int\n",
    "def hex_to_int(hex_string):\n",
    "    return [int(byte, 16) for byte in hex_string.split('\\\\') if byte]\n",
    "\n",
    "class CompressionDataset(Dataset):\n",
    "    def __init__(self, csv_file: str, delimiter: str = \";\", max_length: int = 512):\n",
    "        self.df = pd.read_csv(csv_file, delimiter=delimiter)\n",
    "        self.max_length = max_length\n",
    "        \n",
    "        # Preprocessing steps\n",
    "        self.tokenize_and_encode()\n",
    "\n",
    "    def tokenize_and_encode(self):\n",
    "        # Tokenization and encoding of uncompressed data\n",
    "        self.df[Columns.UNCOMPRESSED.value] = self.df[Columns.UNCOMPRESSED.value].apply(tokenize)\n",
    "        \n",
    "        # Conversion of compressed data\n",
    "        self.df[Columns.COMPRESSED.value] = self.df[Columns.COMPRESSED.value].apply(hex_to_int)\n",
    "\n",
    "    def __len__(self):\n",
    "        return len(self.df)\n",
    "\n",
    "    def __getitem__(self, idx: int):\n",
    "        uncompressed = self.df.iloc[idx][Columns.UNCOMPRESSED.value]\n",
    "        compressed = self.df.iloc[idx][Columns.COMPRESSED.value]\n",
    "        \n",
    "        # Padding\n",
    "        if len(uncompressed) > self.max_length:\n",
    "            uncompressed = uncompressed[:self.max_length]\n",
    "        if len(compressed) > self.max_length:\n",
    "            compressed = compressed[:self.max_length]\n",
    "        \n",
    "        return {\n",
    "            Columns.UNCOMPRESSED.value: torch.tensor(uncompressed, dtype=torch.long),\n",
    "            Columns.COMPRESSED.value: torch.tensor(compressed, dtype=torch.long)\n",
    "        }\n",
    "\n",
    "def collate_fn(batch):\n",
    "    uncompressed_batch = [item[Columns.UNCOMPRESSED.value] for item in batch]\n",
    "    compressed_batch = [item[Columns.COMPRESSED.value] for item in batch]\n",
    "    \n",
    "    uncompressed_batch = pad_sequence(uncompressed_batch, batch_first=True)\n",
    "    compressed_batch = pad_sequence(compressed_batch, batch_first=True)\n",
    "    \n",
    "    return uncompressed_batch, compressed_batch"
   ]
  },
  {
   "cell_type": "markdown",
   "metadata": {},
   "source": [
    "### The model"
   ]
  },
  {
   "cell_type": "code",
   "execution_count": null,
   "metadata": {},
   "outputs": [],
   "source": [
    "class LSTMCompressor(pl.LightningModule):\n",
    "    def __init__(self, vocab_size, embedding_dim, hidden_dim, num_layers, dropout_rate):\n",
    "        super().__init__()\n",
    "        self.embedding = nn.Embedding(vocab_size, embedding_dim)\n",
    "        self.encoder_lstm = nn.LSTM(embedding_dim, hidden_dim, num_layers, dropout=dropout_rate, batch_first=True)\n",
    "        self.decoder_lstm = nn.LSTM(hidden_dim, embedding_dim, num_layers, dropout=dropout_rate, batch_first=True)\n",
    "        self.fc = nn.Linear(hidden_dim, vocab_size)\n",
    "\n",
    "    def forward(self, x):\n",
    "        # Embedding\n",
    "        x = self.embedding(x)\n",
    "\n",
    "        # Encoding\n",
    "        x, (hidden, cell) = self.encoder_lstm(x)\n",
    "        \n",
    "        # Decoding (if necessary, or you can have a separate method for it)\n",
    "        x, (hidden, cell) = self.decoder_lstm(x)\n",
    "\n",
    "        # Fully connected layer\n",
    "        x = self.fc(x)\n",
    "        \n",
    "        return x\n",
    "\n",
    "    def configure_optimizers(self):\n",
    "        optimizer = torch.optim.Adam(self.parameters(), lr=0.001)\n",
    "        return optimizer\n",
    "\n",
    "    def training_step(self, batch, batch_idx):\n",
    "        # Unpack the batch\n",
    "        uncompressed, compressed = batch\n",
    "        \n",
    "        # Forward pass\n",
    "        predicted_compressed = self.forward(uncompressed)\n",
    "        \n",
    "        # Calculate loss\n",
    "        loss = F.cross_entropy(predicted_compressed, compressed)\n",
    "        \n",
    "        # Logging to TensorBoard by default\n",
    "        self.log('train_loss', loss)\n",
    "        return loss\n",
    "\n",
    "    def validation_step(self, batch, batch_idx):\n",
    "        uncompressed, compressed = batch\n",
    "        predicted_compressed = self.forward(uncompressed)\n",
    "        loss = F.cross_entropy(predicted_compressed, compressed)\n",
    "        self.log('val_loss', loss)\n"
   ]
  },
  {
   "cell_type": "markdown",
   "metadata": {},
   "source": [
    "### Training"
   ]
  },
  {
   "cell_type": "code",
   "execution_count": null,
   "metadata": {},
   "outputs": [],
   "source": [
    "dataset = CompressionDataset(\n",
    "    csv_file=config[\"data_path\"], max_length=config[\"max_length\"]\n",
    ")\n",
    "\n",
    "train_size = int(0.8 * len(dataset))\n",
    "val_size = len(dataset) - train_size\n",
    "train_dataset, val_dataset = random_split(dataset, [train_size, val_size])\n",
    "\n",
    "train_loader = DataLoader(\n",
    "    train_dataset, batch_size=config[\"batch_size\"], collate_fn=collate_fn, shuffle=True\n",
    ")\n",
    "val_loader = DataLoader(\n",
    "    val_dataset, batch_size=config[\"batch_size\"], collate_fn=collate_fn\n",
    ")\n",
    "\n",
    "\n",
    "model = LSTMCompressor(\n",
    "    config[\"vocab_size\"],\n",
    "    config[\"embedding_dim\"],\n",
    "    config[\"hidden_dim\"],\n",
    "    config[\"num_layers\"],\n",
    "    config[\"dropout_rate\"],\n",
    ")\n",
    "\n",
    "# Initialize the Trainer\n",
    "checkpoint_callback = ModelCheckpoint(\n",
    "    monitor=\"val_loss\",\n",
    "    save_top_k=1,\n",
    "    mode=\"min\",\n",
    "    filename=\"lstm-compressor-{epoch:02d}-{val_loss:.2f}\",\n",
    ")\n",
    "\n",
    "trainer = pl.Trainer(\n",
    "    max_epochs=config[\"max_epochs\"],\n",
    "    gpus=config[\"gpus\"],\n",
    "    callbacks=[checkpoint_callback],\n",
    ")\n",
    "\n",
    "# Train the model\n",
    "trainer.fit(model, train_loader, val_loader)"
   ]
  }
 ],
 "metadata": {
  "kernelspec": {
   "display_name": "base",
   "language": "python",
   "name": "python3"
  },
  "language_info": {
   "codemirror_mode": {
    "name": "ipython",
    "version": 3
   },
   "file_extension": ".py",
   "mimetype": "text/x-python",
   "name": "python",
   "nbconvert_exporter": "python",
   "pygments_lexer": "ipython3",
   "version": "3.11.3"
  }
 },
 "nbformat": 4,
 "nbformat_minor": 2
}
