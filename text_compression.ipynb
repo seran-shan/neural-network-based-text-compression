{
 "cells": [
  {
   "cell_type": "markdown",
   "metadata": {},
   "source": [
    "# 🚀 Neural Network-Based Text Compression\n",
    "\n",
    "#### 🖋️ Authors\n",
    "- Feidnand Eide\n",
    "- Seran Shanmugathas\n"
   ]
  },
  {
   "cell_type": "markdown",
   "metadata": {},
   "source": [
    "### Install libaries"
   ]
  },
  {
   "cell_type": "code",
   "execution_count": 11,
   "metadata": {},
   "outputs": [
    {
     "name": "stdout",
     "output_type": "stream",
     "text": [
      "Note: you may need to restart the kernel to use updated packages.\n"
     ]
    }
   ],
   "source": [
    "%pip install pytorch-lightning lightning-transformers --quiet"
   ]
  },
  {
   "cell_type": "markdown",
   "metadata": {},
   "source": [
    "### Import Dependencies"
   ]
  },
  {
   "cell_type": "code",
   "execution_count": 17,
   "metadata": {},
   "outputs": [],
   "source": [
    "from enum import Enum\n",
    "import ast\n",
    "\n",
    "import pytorch_lightning as pl\n",
    "from pytorch_lightning.utilities.types import TRAIN_DATALOADERS\n",
    "import torch\n",
    "import torch.nn as nn\n",
    "from torch.utils.data import DataLoader, Dataset\n",
    "import transformers\n",
    "from transformers import AutoTokenizer\n",
    "\n",
    "import pandas as pd\n"
   ]
  },
  {
   "cell_type": "markdown",
   "metadata": {},
   "source": [
    "### Config"
   ]
  },
  {
   "cell_type": "code",
   "execution_count": null,
   "metadata": {},
   "outputs": [],
   "source": [
    "config: dict = {\n",
    "    \"data_path\": \"data/uncompressed_and_compressed.csv\",\n",
    "    \"batch_size\": 32,\n",
    "}"
   ]
  },
  {
   "cell_type": "markdown",
   "metadata": {},
   "source": [
    "### Load and Preprocess the Dataset"
   ]
  },
  {
   "cell_type": "code",
   "execution_count": 16,
   "metadata": {},
   "outputs": [],
   "source": [
    "class Columns(Enum):\n",
    "    \"\"\"\n",
    "    Enum containing the columns of the dataset\n",
    "    \"\"\"\n",
    "\n",
    "    UNCOMPRESSED = \"uncompressed\"\n",
    "    COMPRESSED = \"compressed\"\n",
    "\n",
    "\n",
    "class CompressionDataset(Dataset):\n",
    "    \"\"\"\n",
    "    Class to load text files\n",
    "    \"\"\"\n",
    "\n",
    "    def __init__(self, csv_file: str, delimiter: str = \";\"):\n",
    "        \"\"\"\n",
    "        Class to load text files\n",
    "\n",
    "        Parameters\n",
    "        ----------\n",
    "\n",
    "        csv_file: str\n",
    "            path to the csv file containing the text files to load\n",
    "        delimiter: str\n",
    "            delimiter of the csv file\n",
    "        \"\"\"\n",
    "        self.df = pd.read_csv(csv_file, delimiter=delimiter)\n",
    "        self.df[\"text\"] = self.df[Columns.COMPRESSED.value] = self.df[\n",
    "            Columns.COMPRESSED.value\n",
    "        ].apply(lambda x: ast.literal_eval(x) if isinstance(x, str) else x)\n",
    "\n",
    "    def __len__(self) -> int:\n",
    "        \"\"\"\n",
    "        Returns the length of the dataset\n",
    "\n",
    "        Returns\n",
    "        -------\n",
    "        int\n",
    "            length of the dataset\n",
    "        \"\"\"\n",
    "        return len(self.df)\n",
    "\n",
    "    def __getitem__(self, idx: int) -> str:\n",
    "        \"\"\"\n",
    "        Returns the text of the file at index idx\n",
    "\n",
    "        Parameters\n",
    "        ----------\n",
    "        idx: int\n",
    "            index of the file to load\n",
    "\n",
    "        Returns\n",
    "        -------\n",
    "        str\n",
    "            text of the file at index idx\n",
    "        \"\"\"\n",
    "        return {\n",
    "            Columns.UNCOMPRESSED.value: self.df.iloc[[idx]][Columns.UNCOMPRESSED.value],\n",
    "            Columns.COMPRESSED.value: self.df.iloc[[idx]][Columns.COMPRESSED.value],\n",
    "        }"
   ]
  },
  {
   "cell_type": "markdown",
   "metadata": {},
   "source": [
    "### Custom Data Module"
   ]
  },
  {
   "cell_type": "code",
   "execution_count": null,
   "metadata": {},
   "outputs": [],
   "source": [
    "class CompressionDataModule(pl.LightningDataModule):\n",
    "    \"\"\"\n",
    "    Custom DataModule for the text compression task\n",
    "    \"\"\"\n",
    "\n",
    "    def train_dataloader(self) -> TRAIN_DATALOADERS:\n",
    "        \"\"\"\n",
    "        Returns the training dataloader\n",
    "\n",
    "        Returns\n",
    "        -------\n",
    "        TRAIN_DATALOADERS\n",
    "            training dataloader\n",
    "        \"\"\"\n",
    "        dataset = CompressionDataset(config[\"data_path\"])\n",
    "        return DataLoader(dataset, batch_size=config[\"batch_size\"], shuffle=True)"
   ]
  },
  {
   "cell_type": "markdown",
   "metadata": {},
   "source": [
    "### The transformer"
   ]
  },
  {
   "cell_type": "code",
   "execution_count": null,
   "metadata": {},
   "outputs": [],
   "source": [
    "class TransformerEncoderLayer(nn.Module):\n",
    "    def __init__(self, d_model, nhead, dim_feedforward=2048, dropout=0.1):\n",
    "        \"\"\"\n",
    "        A single layer of the transformer encoder.\n",
    "\n",
    "        Parameters\n",
    "        ----------\n",
    "        d_model : int\n",
    "            The number of expected features in the input (required).\n",
    "        nhead : int\n",
    "            The number of heads in the multiheadattention models (required).\n",
    "        dim_feedforward : int, optional\n",
    "            The dimension of the feedforward network model (default=2048).\n",
    "        dropout : float, optional\n",
    "            The dropout value (default=0.1).\n",
    "        \"\"\"\n",
    "        super(TransformerEncoderLayer, self).__init__()\n",
    "        self.self_attn = nn.MultiheadAttention(d_model, nhead, dropout=dropout)\n",
    "        self.linear1 = nn.Linear(d_model, dim_feedforward)\n",
    "        self.dropout = nn.Dropout(dropout)\n",
    "        self.linear2 = nn.Linear(dim_feedforward, d_model)\n",
    "        \n",
    "        self.norm1 = nn.LayerNorm(d_model)\n",
    "        self.norm2 = nn.LayerNorm(d_model)\n",
    "        self.dropout1 = nn.Dropout(dropout)\n",
    "        self.dropout2 = nn.Dropout(dropout)\n",
    "\n",
    "        self.activation = nn.ReLU()\n",
    "\n",
    "    def forward(self, src):\n",
    "        \"\"\"\n",
    "        Pass the input through the encoder layer.\n",
    "\n",
    "        Parameters\n",
    "        ----------\n",
    "        src : torch.Tensor\n",
    "            The sequence to the encoder layer (required).\n",
    "\n",
    "        Returns\n",
    "        -------\n",
    "        torch.Tensor\n",
    "            The output of the encoder layer.\n",
    "        \"\"\"\n",
    "        src2 = self.norm1(src)\n",
    "        q = k = v = src2\n",
    "        src = src + self.dropout1(self.self_attn(q, k, v)[0])\n",
    "        src2 = self.norm2(src)\n",
    "        src = src + self.dropout2(self.linear2(self.dropout(self.activation(self.linear1(src2)))))\n",
    "        return src\n",
    "\n",
    "class TransformerEncoder(nn.Module):\n",
    "    def __init__(self, d_model, nhead, num_layers, dim_feedforward=2048, dropout=0.1):\n",
    "        \"\"\"\n",
    "        The Transformer Encoder consisting of a stack of N encoder layers.\n",
    "\n",
    "        Parameters\n",
    "        ----------\n",
    "        d_model : int\n",
    "            The number of expected features in the encoder input (required).\n",
    "        nhead : int\n",
    "            The number of heads in the multiheadattention mechanism (required).\n",
    "        num_layers : int\n",
    "            The number of sub-encoder-layers in the encoder (required).\n",
    "        dim_feedforward : int, optional\n",
    "            The dimension of the feedforward network model (default=2048).\n",
    "        dropout : float, optional\n",
    "            The dropout value (default=0.1).\n",
    "        \"\"\"\n",
    "        super(TransformerEncoder, self).init()\n",
    "        layer = TransformerEncoderLayer(d_model, nhead, dim_feedforward, dropout)\n",
    "        self.layers = nn.ModuleList([layer for _ in range(num_layers)])\n",
    "        self.num_layers = num_layers"
   ]
  }
 ],
 "metadata": {
  "kernelspec": {
   "display_name": "base",
   "language": "python",
   "name": "python3"
  },
  "language_info": {
   "codemirror_mode": {
    "name": "ipython",
    "version": 3
   },
   "file_extension": ".py",
   "mimetype": "text/x-python",
   "name": "python",
   "nbconvert_exporter": "python",
   "pygments_lexer": "ipython3",
   "version": "3.11.3"
  }
 },
 "nbformat": 4,
 "nbformat_minor": 2
}
